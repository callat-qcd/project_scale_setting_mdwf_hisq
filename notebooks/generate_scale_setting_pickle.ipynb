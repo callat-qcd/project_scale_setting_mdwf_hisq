{
 "cells": [
  {
   "cell_type": "code",
   "execution_count": 1,
   "metadata": {},
   "outputs": [],
   "source": [
    "import sys\n",
    "import pathlib\n",
    "import gvar as gv\n",
    "sys.path.append('../')\n",
    "\n",
    "import fitter.model_average as md"
   ]
  },
  {
   "cell_type": "code",
   "execution_count": 2,
   "metadata": {},
   "outputs": [
    {
     "name": "stdout",
     "output_type": "stream",
     "text": [
      "{'name': '2023_06_20-original_simultaneous', 'models': ['Fpi_n2lo_variable', 'Fpi_n2lo_alphas_variable', 'Fpi_n2lo_alphas_fv_variable', 'Fpi_n2lo_fv_variable', 'Fpi_n2lo_log_variable', 'Fpi_n2lo_log_alphas_variable', 'Fpi_n2lo_log_alphas_fv_variable', 'Fpi_n2lo_log_fv_variable', 'Fpi_n3lo_variable', 'Fpi_n3lo_alphas_variable', 'Fpi_n3lo_alphas_fv_variable', 'Fpi_n3lo_fv_variable', 'Fpi_n3lo_log_log2_variable', 'Fpi_n3lo_log_log2_alphas_variable', 'Fpi_n3lo_log_log2_alphas_fv_variable', 'Fpi_n3lo_log_log2_fv_variable', 'Om_n2lo_variable', 'Om_n2lo_alphas_variable', 'Om_n2lo_alphas_fv_variable', 'Om_n2lo_fv_variable', 'Om_n2lo_log_variable', 'Om_n2lo_log_alphas_variable', 'Om_n2lo_log_alphas_fv_variable', 'Om_n2lo_log_fv_variable', 'Om_n3lo_variable', 'Om_n3lo_alphas_variable', 'Om_n3lo_alphas_fv_variable', 'Om_n3lo_fv_variable', 'Om_n3lo_log_log2_variable', 'Om_n3lo_log_log2_alphas_variable', 'Om_n3lo_log_log2_alphas_fv_variable', 'Om_n3lo_log_log2_fv_variable', 'Fpi_n2lo_w0orig', 'Fpi_n2lo_alphas_w0orig', 'Fpi_n2lo_alphas_fv_w0orig', 'Fpi_n2lo_fv_w0orig', 'Fpi_n2lo_log_w0orig', 'Fpi_n2lo_log_alphas_w0orig', 'Fpi_n2lo_log_alphas_fv_w0orig', 'Fpi_n2lo_log_fv_w0orig', 'Fpi_n3lo_w0orig', 'Fpi_n3lo_alphas_w0orig', 'Fpi_n3lo_alphas_fv_w0orig', 'Fpi_n3lo_fv_w0orig', 'Fpi_n3lo_log_log2_w0orig', 'Fpi_n3lo_log_log2_alphas_w0orig', 'Fpi_n3lo_log_log2_alphas_fv_w0orig', 'Fpi_n3lo_log_log2_fv_w0orig', 'Om_n2lo_w0orig', 'Om_n2lo_alphas_w0orig', 'Om_n2lo_alphas_fv_w0orig', 'Om_n2lo_fv_w0orig', 'Om_n2lo_log_w0orig', 'Om_n2lo_log_alphas_w0orig', 'Om_n2lo_log_alphas_fv_w0orig', 'Om_n2lo_log_fv_w0orig', 'Om_n3lo_w0orig', 'Om_n3lo_alphas_w0orig', 'Om_n3lo_alphas_fv_w0orig', 'Om_n3lo_fv_w0orig', 'Om_n3lo_log_log2_w0orig', 'Om_n3lo_log_log2_alphas_w0orig', 'Om_n3lo_log_log2_alphas_fv_w0orig', 'Om_n3lo_log_log2_fv_w0orig'], 'excluded_ensembles': None, 'data_file': 'omega_pi_k_spec', 'empirical_priors': None, 'use_charm_reweighting': False, 'use_milc_aw0': False, 'improved_observables': False, 'simultaneous': True}\n",
      "{'name': '2023_06_20-improved_simultaneous', 'models': ['Fpi_n2lo_variable', 'Fpi_n2lo_alphas_variable', 'Fpi_n2lo_alphas_fv_variable', 'Fpi_n2lo_fv_variable', 'Fpi_n2lo_log_variable', 'Fpi_n2lo_log_alphas_variable', 'Fpi_n2lo_log_alphas_fv_variable', 'Fpi_n2lo_log_fv_variable', 'Fpi_n3lo_variable', 'Fpi_n3lo_alphas_variable', 'Fpi_n3lo_alphas_fv_variable', 'Fpi_n3lo_fv_variable', 'Fpi_n3lo_log_log2_variable', 'Fpi_n3lo_log_log2_alphas_variable', 'Fpi_n3lo_log_log2_alphas_fv_variable', 'Fpi_n3lo_log_log2_fv_variable', 'Om_n2lo_variable', 'Om_n2lo_alphas_variable', 'Om_n2lo_alphas_fv_variable', 'Om_n2lo_fv_variable', 'Om_n2lo_log_variable', 'Om_n2lo_log_alphas_variable', 'Om_n2lo_log_alphas_fv_variable', 'Om_n2lo_log_fv_variable', 'Om_n3lo_variable', 'Om_n3lo_alphas_variable', 'Om_n3lo_alphas_fv_variable', 'Om_n3lo_fv_variable', 'Om_n3lo_log_log2_variable', 'Om_n3lo_log_log2_alphas_variable', 'Om_n3lo_log_log2_alphas_fv_variable', 'Om_n3lo_log_log2_fv_variable', 'Fpi_n2lo_w0orig', 'Fpi_n2lo_alphas_w0orig', 'Fpi_n2lo_alphas_fv_w0orig', 'Fpi_n2lo_fv_w0orig', 'Fpi_n2lo_log_w0orig', 'Fpi_n2lo_log_alphas_w0orig', 'Fpi_n2lo_log_alphas_fv_w0orig', 'Fpi_n2lo_log_fv_w0orig', 'Fpi_n3lo_w0orig', 'Fpi_n3lo_alphas_w0orig', 'Fpi_n3lo_alphas_fv_w0orig', 'Fpi_n3lo_fv_w0orig', 'Fpi_n3lo_log_log2_w0orig', 'Fpi_n3lo_log_log2_alphas_w0orig', 'Fpi_n3lo_log_log2_alphas_fv_w0orig', 'Fpi_n3lo_log_log2_fv_w0orig', 'Om_n2lo_w0orig', 'Om_n2lo_alphas_w0orig', 'Om_n2lo_alphas_fv_w0orig', 'Om_n2lo_fv_w0orig', 'Om_n2lo_log_w0orig', 'Om_n2lo_log_alphas_w0orig', 'Om_n2lo_log_alphas_fv_w0orig', 'Om_n2lo_log_fv_w0orig', 'Om_n3lo_w0orig', 'Om_n3lo_alphas_w0orig', 'Om_n3lo_alphas_fv_w0orig', 'Om_n3lo_fv_w0orig', 'Om_n3lo_log_log2_w0orig', 'Om_n3lo_log_log2_alphas_w0orig', 'Om_n3lo_log_log2_alphas_fv_w0orig', 'Om_n3lo_log_log2_fv_w0orig'], 'excluded_ensembles': None, 'data_file': 'omega_pi_k_spec', 'empirical_priors': None, 'use_charm_reweighting': False, 'use_milc_aw0': False, 'improved_observables': True, 'simultaneous': True}\n"
     ]
    }
   ],
   "source": [
    "collections = {\n",
    "    'original_scales' : '2023_06_20-original_simultaneous',\n",
    "    'improved_scales' : '2023_06_20-improved_simultaneous'\n",
    "}\n",
    "\n",
    "model_average_org = md.model_average(collections['original_scales']) # 2021_05_06-original\n",
    "model_average_imp = md.model_average(collections['improved_scales']) # 2021_05_06-improved"
   ]
  },
  {
   "cell_type": "code",
   "execution_count": 3,
   "metadata": {},
   "outputs": [
    {
     "name": "stdout",
     "output_type": "stream",
     "text": [
      "{'a06': 2.986(12), 'a09': 1.9443(55), 'a12': 1.4107(29), 'a15': 1.1451(12), 'w0': 0.1713(12)}\n",
      "{'w0_org:a06': 2.986(12), 'w0_org:a09': 1.9443(55), 'w0_org:a12': 1.4107(29), 'w0_org:a15': 1.1451(12), 'w0_org:w0': 0.1713(12), 't0_org:a06': 6.587(25), 't0_org:a09': 3.0382(77), 't0_org:a12': 1.7570(33), 't0_org:a15': 1.2376(16), 't0_org:sqrt_t0': 0.1414(12), 'w0_imp:a06': 2.997(12), 'w0_imp:a09': 1.9556(54), 'w0_imp:a12': 1.4163(29), 'w0_imp:a15': 1.1341(15), 'w0_imp:w0': 0.1716(12), 't0_imp:a06': 6.234(26), 't0_imp:a09': 2.7139(80), 't0_imp:a12': 1.4693(32), 't0_imp:a15': 0.9920(13), 't0_imp:sqrt_t0': 0.1418(11), 'meta': {'original_scales': '2023_06_20-original_simultaneous', 'improved_scales': '2023_06_20-improved_simultaneous'}}\n"
     ]
    },
    {
     "data": {
      "text/plain": [
       "'./../tmp/scale_setting.p'"
      ]
     },
     "execution_count": 3,
     "metadata": {},
     "output_type": "execute_result"
    }
   ],
   "source": [
    "results = {}\n",
    "\n",
    "values = model_average_org.average('w0/a')\n",
    "print(values)\n",
    "results.update({'w0_org:'+k : values[k] for k in values})\n",
    "\n",
    "values = model_average_org.average('t0/a2')\n",
    "results.update({'t0_org:'+k : values[k] for k in values})\n",
    "\n",
    "values = model_average_imp.average('w0/a')\n",
    "results.update({'w0_imp:'+k : values[k] for k in values})\n",
    "\n",
    "values = model_average_imp.average('t0/a2')\n",
    "results.update({'t0_imp:'+k : values[k] for k in values})\n",
    "results.update({'meta' : collections})\n",
    "\n",
    "print(results)\n",
    "pathlib.Path('./../tmp/').mkdir(parents=True, exist_ok=True)\n",
    "gv.dump(results, './../tmp/scale_setting.p')"
   ]
  },
  {
   "cell_type": "code",
   "execution_count": 4,
   "metadata": {},
   "outputs": [
    {
     "name": "stdout",
     "output_type": "stream",
     "text": [
      "       key/index          value\n",
      "-------------------------------\n",
      "      w0_org:a06     2.986 (12)\n",
      "      w0_org:a09    1.9443 (55)\n",
      "      w0_org:a12    1.4107 (29)\n",
      "      w0_org:a15    1.1451 (12)\n",
      "       w0_org:w0    0.1713 (12)\n",
      "      t0_org:a06     6.587 (25)\n",
      "      t0_org:a09    3.0382 (77)\n",
      "      t0_org:a12    1.7570 (33)\n",
      "      t0_org:a15    1.2376 (16)\n",
      "  t0_org:sqrt_t0    0.1414 (12)\n",
      "      w0_imp:a06     2.997 (12)\n",
      "      w0_imp:a09    1.9556 (54)\n",
      "      w0_imp:a12    1.4163 (29)\n",
      "      w0_imp:a15    1.1341 (15)\n",
      "       w0_imp:w0    0.1716 (12)\n",
      "      t0_imp:a06     6.234 (26)\n",
      "      t0_imp:a09    2.7139 (80)\n",
      "      t0_imp:a12    1.4693 (32)\n",
      "      t0_imp:a15    0.9920 (13)\n",
      "  t0_imp:sqrt_t0    0.1418 (11)\n"
     ]
    }
   ],
   "source": [
    "print(gv.tabulate({k : results[k] for k in results if k!='meta'} ))"
   ]
  },
  {
   "cell_type": "code",
   "execution_count": null,
   "metadata": {},
   "outputs": [],
   "source": []
  }
 ],
 "metadata": {
  "kernelspec": {
   "display_name": "Python 3",
   "language": "python",
   "name": "python3"
  },
  "language_info": {
   "codemirror_mode": {
    "name": "ipython",
    "version": 3
   },
   "file_extension": ".py",
   "mimetype": "text/x-python",
   "name": "python",
   "nbconvert_exporter": "python",
   "pygments_lexer": "ipython3",
   "version": "3.10.5"
  },
  "orig_nbformat": 4
 },
 "nbformat": 4,
 "nbformat_minor": 2
}
